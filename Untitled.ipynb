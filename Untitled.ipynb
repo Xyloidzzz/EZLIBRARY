{
 "cells": [
  {
   "cell_type": "code",
   "execution_count": 6,
   "id": "94666b24-6b26-4f6f-8e47-ae5ce8e7e03a",
   "metadata": {},
   "outputs": [],
   "source": [
    "import scrypt\n",
    "import os\n",
    "import base64"
   ]
  },
  {
   "cell_type": "code",
   "execution_count": 10,
   "id": "2c9d44a5-b7f3-4ceb-87de-a480678bc1c4",
   "metadata": {},
   "outputs": [
    {
     "data": {
      "text/plain": [
       "'MWEf67icfvTolwOR'"
      ]
     },
     "execution_count": 10,
     "metadata": {},
     "output_type": "execute_result"
    }
   ],
   "source": [
    "data=scrypt.encrypt(base64.b64encode(os.urandom(32)).decode('utf-8')[:32],\"admin\",2.5)\n",
    "scrypt.decrypt(data,'admin',2.5)\n"
   ]
  },
  {
   "cell_type": "code",
   "execution_count": 53,
   "id": "eb844b01-f7d5-4dde-a004-0030605f31b9",
   "metadata": {},
   "outputs": [
    {
     "ename": "LookupError",
     "evalue": "unknown encoding: utf-12",
     "output_type": "error",
     "traceback": [
      "\u001b[0;31m---------------------------------------------------------------------------\u001b[0m",
      "\u001b[0;31mLookupError\u001b[0m                               Traceback (most recent call last)",
      "Cell \u001b[0;32mIn[53], line 1\u001b[0m\n\u001b[0;32m----> 1\u001b[0m datum\u001b[38;5;241m=\u001b[39m\u001b[38;5;28;43mstr\u001b[39;49m\u001b[43m(\u001b[49m\u001b[43mdata\u001b[49m\u001b[43m,\u001b[49m\u001b[38;5;124;43m'\u001b[39;49m\u001b[38;5;124;43mutf-12\u001b[39;49m\u001b[38;5;124;43m'\u001b[39;49m\u001b[43m)\u001b[49m\n",
      "\u001b[0;31mLookupError\u001b[0m: unknown encoding: utf-12"
     ]
    }
   ],
   "source": []
  },
  {
   "cell_type": "code",
   "execution_count": 49,
   "id": "2eeb2e8e-dd8a-4d0d-8a5d-c6bbd441cae8",
   "metadata": {},
   "outputs": [
    {
     "ename": "error",
     "evalue": "data is not a valid scrypt-encrypted block",
     "output_type": "error",
     "traceback": [
      "\u001b[0;31m---------------------------------------------------------------------------\u001b[0m",
      "\u001b[0;31merror\u001b[0m                                     Traceback (most recent call last)",
      "Cell \u001b[0;32mIn[49], line 1\u001b[0m\n\u001b[0;32m----> 1\u001b[0m \u001b[43mscrypt\u001b[49m\u001b[38;5;241;43m.\u001b[39;49m\u001b[43mdecrypt\u001b[49m\u001b[43m(\u001b[49m\u001b[43mdatum\u001b[49m\u001b[43m,\u001b[49m\u001b[38;5;124;43m'\u001b[39;49m\u001b[38;5;124;43madmin\u001b[39;49m\u001b[38;5;124;43m'\u001b[39;49m\u001b[43m,\u001b[49m\u001b[38;5;241;43m2.5\u001b[39;49m\u001b[43m)\u001b[49m\n",
      "File \u001b[0;32m~/.local/lib/python3.10/site-packages/scrypt/scrypt.py:216\u001b[0m, in \u001b[0;36mdecrypt\u001b[0;34m(input, password, maxtime, maxmem, maxmemfrac, encoding)\u001b[0m\n\u001b[1;32m    201\u001b[0m result \u001b[38;5;241m=\u001b[39m _scryptdec_buf(\n\u001b[1;32m    202\u001b[0m     \u001b[38;5;28minput\u001b[39m,\n\u001b[1;32m    203\u001b[0m     \u001b[38;5;28mlen\u001b[39m(\u001b[38;5;28minput\u001b[39m),\n\u001b[0;32m   (...)\u001b[0m\n\u001b[1;32m    212\u001b[0m     \u001b[38;5;241m0\u001b[39m,\n\u001b[1;32m    213\u001b[0m )\n\u001b[1;32m    215\u001b[0m \u001b[38;5;28;01mif\u001b[39;00m result:\n\u001b[0;32m--> 216\u001b[0m     \u001b[38;5;28;01mraise\u001b[39;00m error(result)\n\u001b[1;32m    218\u001b[0m out_bytes \u001b[38;5;241m=\u001b[39m outbuf\u001b[38;5;241m.\u001b[39mraw[: outbuflen\u001b[38;5;241m.\u001b[39mcontents\u001b[38;5;241m.\u001b[39mvalue]\n\u001b[1;32m    220\u001b[0m \u001b[38;5;28;01mif\u001b[39;00m encoding \u001b[38;5;129;01mis\u001b[39;00m \u001b[38;5;28;01mNone\u001b[39;00m:\n",
      "\u001b[0;31merror\u001b[0m: data is not a valid scrypt-encrypted block"
     ]
    }
   ],
   "source": [
    "scrypt.decrypt(datum,'admin',2.5)"
   ]
  },
  {
   "cell_type": "code",
   "execution_count": 39,
   "id": "a94b0eb6-f880-409c-b820-45406ef9fd38",
   "metadata": {},
   "outputs": [
    {
     "name": "stdout",
     "output_type": "stream",
     "text": [
      "1095\n"
     ]
    }
   ],
   "source": [
    "a=bin(int.from_bytes(data, byteorder='big'))[2:]\n",
    "print(len(a))"
   ]
  },
  {
   "cell_type": "code",
   "execution_count": null,
   "id": "71a37ffb-466a-41a3-a584-b18388e96b79",
   "metadata": {},
   "outputs": [],
   "source": []
  }
 ],
 "metadata": {
  "kernelspec": {
   "display_name": "Python 3 (ipykernel)",
   "language": "python",
   "name": "python3"
  },
  "language_info": {
   "codemirror_mode": {
    "name": "ipython",
    "version": 3
   },
   "file_extension": ".py",
   "mimetype": "text/x-python",
   "name": "python",
   "nbconvert_exporter": "python",
   "pygments_lexer": "ipython3",
   "version": "3.10.12"
  }
 },
 "nbformat": 4,
 "nbformat_minor": 5
}
