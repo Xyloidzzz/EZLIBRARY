{
 "cells": [
  {
   "cell_type": "code",
   "execution_count": 2,
   "id": "94666b24-6b26-4f6f-8e47-ae5ce8e7e03a",
   "metadata": {},
   "outputs": [],
   "source": [
    "import scrypt\n",
    "import os\n",
    "import base64"
   ]
  },
  {
   "cell_type": "code",
   "execution_count": 10,
   "id": "2c9d44a5-b7f3-4ceb-87de-a480678bc1c4",
   "metadata": {},
   "outputs": [
    {
     "data": {
      "text/plain": [
       "'MWEf67icfvTolwOR'"
      ]
     },
     "execution_count": 10,
     "metadata": {},
     "output_type": "execute_result"
    }
   ],
   "source": [
    "data=scrypt.encrypt(base64.b64encode(os.urandom(32)).decode('utf-8')[:32],\"admin\",2.5)\n",
    "scrypt.decrypt(data,'admin',2.5)\n"
   ]
  },
  {
   "cell_type": "code",
   "execution_count": 6,
   "id": "eb844b01-f7d5-4dde-a004-0030605f31b9",
   "metadata": {},
   "outputs": [],
   "source": [
    "phash=scrypt.encrypt(base64.b64encode(os.urandom(32)).decode('utf-8')[:32],'Bingo',5)"
   ]
  },
  {
   "cell_type": "code",
   "execution_count": 7,
   "id": "2eeb2e8e-dd8a-4d0d-8a5d-c6bbd441cae8",
   "metadata": {},
   "outputs": [
    {
     "name": "stdout",
     "output_type": "stream",
     "text": [
      "<class 'bytes'>\n"
     ]
    }
   ],
   "source": [
    "print(type(phash))"
   ]
  },
  {
   "cell_type": "code",
   "execution_count": 39,
   "id": "a94b0eb6-f880-409c-b820-45406ef9fd38",
   "metadata": {},
   "outputs": [
    {
     "name": "stdout",
     "output_type": "stream",
     "text": [
      "1095\n"
     ]
    }
   ],
   "source": []
  },
  {
   "cell_type": "code",
   "execution_count": null,
   "id": "71a37ffb-466a-41a3-a584-b18388e96b79",
   "metadata": {},
   "outputs": [],
   "source": []
  }
 ],
 "metadata": {
  "kernelspec": {
   "display_name": "Python 3 (ipykernel)",
   "language": "python",
   "name": "python3"
  },
  "language_info": {
   "codemirror_mode": {
    "name": "ipython",
    "version": 3
   },
   "file_extension": ".py",
   "mimetype": "text/x-python",
   "name": "python",
   "nbconvert_exporter": "python",
   "pygments_lexer": "ipython3",
   "version": "3.10.12"
  }
 },
 "nbformat": 4,
 "nbformat_minor": 5
}
